{
 "cells": [
  {
   "cell_type": "markdown",
   "id": "ee31c000-428e-4efe-9696-b65531f391f7",
   "metadata": {},
   "source": [
    "# Predictive maintenance using machine learning\n",
    "**Author:** Yohannes Kewani Gebrewahid \n",
    "\n",
    "## Project Overview\n",
    "This notebook applies machine learning techniques to the **AI4I 2020 Predictive \n",
    "Maintenance Dataset**, which contains simulated sensor readings for industrial \n",
    "equipment. The dataset includes variables such as air temperature, process \n",
    "temperature, rotational speed, torque, and tool wear, along with labels \n",
    "indicating equipment failure modes.  \n",
    "\n",
    "The main objective is to build models that can predict equipment failures \n",
    "before they happen. This supports **Industry 4.0** and **Industrial Analytics** \n",
    "by enabling data-driven maintenance planning, reducing downtime, and improving \n",
    "system efficiency.  \n",
    "\n",
    "The notebook covers:\n",
    "- Data preprocessing and exploratory analysis  \n",
    "- Feature engineering  \n",
    "- Training and evaluation of classification models  \n",
    "- Insights on predictive maintenance for industrial systems\n"
   ]
  },
  {
   "cell_type": "markdown",
   "id": "46baa042-c739-48bb-aac0-05602f3acd0e",
   "metadata": {},
   "source": [
    "### Importing the required Libraries"
   ]
  },
  {
   "cell_type": "code",
   "execution_count": 3,
   "id": "547ea5ac-99e0-4646-802e-ea65da73f08b",
   "metadata": {},
   "outputs": [],
   "source": [
    "\n",
    "import numpy as np\n",
    "import pandas as pd\n",
    "import matplotlib.pyplot as plt\n",
    "from sklearn.model_selection import train_test_split\n",
    "from sklearn.ensemble import RandomForestClassifier\n",
    "from sklearn.metrics import classification_report, confusion_matrix"
   ]
  },
  {
   "cell_type": "markdown",
   "id": "c669730a-1750-4a27-8f3b-60b8c6118c5c",
   "metadata": {},
   "source": [
    "### Importing the dataset"
   ]
  },
  {
   "cell_type": "code",
   "execution_count": 22,
   "id": "a90a326a-b86c-4b29-89c2-befd0ff84ec9",
   "metadata": {},
   "outputs": [
    {
     "data": {
      "text/html": [
       "<div>\n",
       "<style scoped>\n",
       "    .dataframe tbody tr th:only-of-type {\n",
       "        vertical-align: middle;\n",
       "    }\n",
       "\n",
       "    .dataframe tbody tr th {\n",
       "        vertical-align: top;\n",
       "    }\n",
       "\n",
       "    .dataframe thead th {\n",
       "        text-align: right;\n",
       "    }\n",
       "</style>\n",
       "<table border=\"1\" class=\"dataframe\">\n",
       "  <thead>\n",
       "    <tr style=\"text-align: right;\">\n",
       "      <th></th>\n",
       "      <th>UDI</th>\n",
       "      <th>Product ID</th>\n",
       "      <th>Type</th>\n",
       "      <th>Air temperature [K]</th>\n",
       "      <th>Process temperature [K]</th>\n",
       "      <th>Rotational speed [rpm]</th>\n",
       "      <th>Torque [Nm]</th>\n",
       "      <th>Tool wear [min]</th>\n",
       "      <th>Machine failure</th>\n",
       "      <th>TWF</th>\n",
       "      <th>HDF</th>\n",
       "      <th>PWF</th>\n",
       "      <th>OSF</th>\n",
       "      <th>RNF</th>\n",
       "    </tr>\n",
       "  </thead>\n",
       "  <tbody>\n",
       "    <tr>\n",
       "      <th>0</th>\n",
       "      <td>1</td>\n",
       "      <td>M14860</td>\n",
       "      <td>M</td>\n",
       "      <td>298.1</td>\n",
       "      <td>308.6</td>\n",
       "      <td>1551</td>\n",
       "      <td>42.8</td>\n",
       "      <td>0</td>\n",
       "      <td>0</td>\n",
       "      <td>0</td>\n",
       "      <td>0</td>\n",
       "      <td>0</td>\n",
       "      <td>0</td>\n",
       "      <td>0</td>\n",
       "    </tr>\n",
       "    <tr>\n",
       "      <th>1</th>\n",
       "      <td>2</td>\n",
       "      <td>L47181</td>\n",
       "      <td>L</td>\n",
       "      <td>298.2</td>\n",
       "      <td>308.7</td>\n",
       "      <td>1408</td>\n",
       "      <td>46.3</td>\n",
       "      <td>3</td>\n",
       "      <td>0</td>\n",
       "      <td>0</td>\n",
       "      <td>0</td>\n",
       "      <td>0</td>\n",
       "      <td>0</td>\n",
       "      <td>0</td>\n",
       "    </tr>\n",
       "    <tr>\n",
       "      <th>2</th>\n",
       "      <td>3</td>\n",
       "      <td>L47182</td>\n",
       "      <td>L</td>\n",
       "      <td>298.1</td>\n",
       "      <td>308.5</td>\n",
       "      <td>1498</td>\n",
       "      <td>49.4</td>\n",
       "      <td>5</td>\n",
       "      <td>0</td>\n",
       "      <td>0</td>\n",
       "      <td>0</td>\n",
       "      <td>0</td>\n",
       "      <td>0</td>\n",
       "      <td>0</td>\n",
       "    </tr>\n",
       "    <tr>\n",
       "      <th>3</th>\n",
       "      <td>4</td>\n",
       "      <td>L47183</td>\n",
       "      <td>L</td>\n",
       "      <td>298.2</td>\n",
       "      <td>308.6</td>\n",
       "      <td>1433</td>\n",
       "      <td>39.5</td>\n",
       "      <td>7</td>\n",
       "      <td>0</td>\n",
       "      <td>0</td>\n",
       "      <td>0</td>\n",
       "      <td>0</td>\n",
       "      <td>0</td>\n",
       "      <td>0</td>\n",
       "    </tr>\n",
       "    <tr>\n",
       "      <th>4</th>\n",
       "      <td>5</td>\n",
       "      <td>L47184</td>\n",
       "      <td>L</td>\n",
       "      <td>298.2</td>\n",
       "      <td>308.7</td>\n",
       "      <td>1408</td>\n",
       "      <td>40.0</td>\n",
       "      <td>9</td>\n",
       "      <td>0</td>\n",
       "      <td>0</td>\n",
       "      <td>0</td>\n",
       "      <td>0</td>\n",
       "      <td>0</td>\n",
       "      <td>0</td>\n",
       "    </tr>\n",
       "    <tr>\n",
       "      <th>...</th>\n",
       "      <td>...</td>\n",
       "      <td>...</td>\n",
       "      <td>...</td>\n",
       "      <td>...</td>\n",
       "      <td>...</td>\n",
       "      <td>...</td>\n",
       "      <td>...</td>\n",
       "      <td>...</td>\n",
       "      <td>...</td>\n",
       "      <td>...</td>\n",
       "      <td>...</td>\n",
       "      <td>...</td>\n",
       "      <td>...</td>\n",
       "      <td>...</td>\n",
       "    </tr>\n",
       "    <tr>\n",
       "      <th>9995</th>\n",
       "      <td>9996</td>\n",
       "      <td>M24855</td>\n",
       "      <td>M</td>\n",
       "      <td>298.8</td>\n",
       "      <td>308.4</td>\n",
       "      <td>1604</td>\n",
       "      <td>29.5</td>\n",
       "      <td>14</td>\n",
       "      <td>0</td>\n",
       "      <td>0</td>\n",
       "      <td>0</td>\n",
       "      <td>0</td>\n",
       "      <td>0</td>\n",
       "      <td>0</td>\n",
       "    </tr>\n",
       "    <tr>\n",
       "      <th>9996</th>\n",
       "      <td>9997</td>\n",
       "      <td>H39410</td>\n",
       "      <td>H</td>\n",
       "      <td>298.9</td>\n",
       "      <td>308.4</td>\n",
       "      <td>1632</td>\n",
       "      <td>31.8</td>\n",
       "      <td>17</td>\n",
       "      <td>0</td>\n",
       "      <td>0</td>\n",
       "      <td>0</td>\n",
       "      <td>0</td>\n",
       "      <td>0</td>\n",
       "      <td>0</td>\n",
       "    </tr>\n",
       "    <tr>\n",
       "      <th>9997</th>\n",
       "      <td>9998</td>\n",
       "      <td>M24857</td>\n",
       "      <td>M</td>\n",
       "      <td>299.0</td>\n",
       "      <td>308.6</td>\n",
       "      <td>1645</td>\n",
       "      <td>33.4</td>\n",
       "      <td>22</td>\n",
       "      <td>0</td>\n",
       "      <td>0</td>\n",
       "      <td>0</td>\n",
       "      <td>0</td>\n",
       "      <td>0</td>\n",
       "      <td>0</td>\n",
       "    </tr>\n",
       "    <tr>\n",
       "      <th>9998</th>\n",
       "      <td>9999</td>\n",
       "      <td>H39412</td>\n",
       "      <td>H</td>\n",
       "      <td>299.0</td>\n",
       "      <td>308.7</td>\n",
       "      <td>1408</td>\n",
       "      <td>48.5</td>\n",
       "      <td>25</td>\n",
       "      <td>0</td>\n",
       "      <td>0</td>\n",
       "      <td>0</td>\n",
       "      <td>0</td>\n",
       "      <td>0</td>\n",
       "      <td>0</td>\n",
       "    </tr>\n",
       "    <tr>\n",
       "      <th>9999</th>\n",
       "      <td>10000</td>\n",
       "      <td>M24859</td>\n",
       "      <td>M</td>\n",
       "      <td>299.0</td>\n",
       "      <td>308.7</td>\n",
       "      <td>1500</td>\n",
       "      <td>40.2</td>\n",
       "      <td>30</td>\n",
       "      <td>0</td>\n",
       "      <td>0</td>\n",
       "      <td>0</td>\n",
       "      <td>0</td>\n",
       "      <td>0</td>\n",
       "      <td>0</td>\n",
       "    </tr>\n",
       "  </tbody>\n",
       "</table>\n",
       "<p>10000 rows × 14 columns</p>\n",
       "</div>"
      ],
      "text/plain": [
       "        UDI Product ID Type  Air temperature [K]  Process temperature [K]  ...  TWF  HDF  PWF  OSF  RNF\n",
       "0         1     M14860    M                298.1                    308.6  ...    0    0    0    0    0\n",
       "1         2     L47181    L                298.2                    308.7  ...    0    0    0    0    0\n",
       "2         3     L47182    L                298.1                    308.5  ...    0    0    0    0    0\n",
       "3         4     L47183    L                298.2                    308.6  ...    0    0    0    0    0\n",
       "4         5     L47184    L                298.2                    308.7  ...    0    0    0    0    0\n",
       "...     ...        ...  ...                  ...                      ...  ...  ...  ...  ...  ...  ...\n",
       "9995   9996     M24855    M                298.8                    308.4  ...    0    0    0    0    0\n",
       "9996   9997     H39410    H                298.9                    308.4  ...    0    0    0    0    0\n",
       "9997   9998     M24857    M                299.0                    308.6  ...    0    0    0    0    0\n",
       "9998   9999     H39412    H                299.0                    308.7  ...    0    0    0    0    0\n",
       "9999  10000     M24859    M                299.0                    308.7  ...    0    0    0    0    0\n",
       "\n",
       "[10000 rows x 14 columns]"
      ]
     },
     "execution_count": 22,
     "metadata": {},
     "output_type": "execute_result"
    }
   ],
   "source": [
    "\n",
    "df = pd.read_csv(\"../data/ai4i2020.csv\")\n",
    "df"
   ]
  },
  {
   "cell_type": "markdown",
   "id": "a55b444c-d829-4dad-b368-97040034c923",
   "metadata": {},
   "source": [
    "**Checking for Null data set**"
   ]
  },
  {
   "cell_type": "code",
   "execution_count": 21,
   "id": "32b21f08-a9bb-422f-b5fe-fd7af5561ac6",
   "metadata": {},
   "outputs": [
    {
     "name": "stdout",
     "output_type": "stream",
     "text": [
      "False\n"
     ]
    }
   ],
   "source": [
    " print(df.isnull().values.any())"
   ]
  },
  {
   "cell_type": "markdown",
   "id": "97dfee1b-2ceb-4c8d-af76-452ac4720ed0",
   "metadata": {},
   "source": [
    "**Extracting Independent Varibales**"
   ]
  },
  {
   "cell_type": "code",
   "execution_count": 24,
   "id": "b72c1751-8c94-4292-9570-6ef47223700d",
   "metadata": {},
   "outputs": [
    {
     "data": {
      "text/plain": [
       "array([['M', 298.1, 308.6, 1551, 42.8, 0],\n",
       "       ['L', 298.2, 308.7, 1408, 46.3, 3],\n",
       "       ['L', 298.1, 308.5, 1498, 49.4, 5],\n",
       "       ...,\n",
       "       ['M', 299.0, 308.6, 1645, 33.4, 22],\n",
       "       ['H', 299.0, 308.7, 1408, 48.5, 25],\n",
       "       ['M', 299.0, 308.7, 1500, 40.2, 30]], dtype=object)"
      ]
     },
     "execution_count": 24,
     "metadata": {},
     "output_type": "execute_result"
    }
   ],
   "source": [
    "X = df.drop(['UDI','Product ID','Machine failure', 'TWF', 'HDF', 'PWF', 'OSF', 'RNF'], axis='columns').values\n",
    "X"
   ]
  },
  {
   "cell_type": "markdown",
   "id": "99ef0c0b-e8ab-4344-b775-116044b1a0c8",
   "metadata": {},
   "source": [
    "**Extracting Dependent variable**"
   ]
  },
  {
   "cell_type": "code",
   "execution_count": 17,
   "id": "1a65cf05-039c-4db2-8910-c50bde532fdb",
   "metadata": {},
   "outputs": [
    {
     "data": {
      "text/plain": [
       "array([0, 0, 0, ..., 0, 0, 0], dtype=int64)"
      ]
     },
     "execution_count": 17,
     "metadata": {},
     "output_type": "execute_result"
    }
   ],
   "source": [
    "y=df['Machine failure'].values\n",
    "y"
   ]
  },
  {
   "cell_type": "markdown",
   "id": "c787b392-fb59-4dfb-abd1-ff89643fb238",
   "metadata": {},
   "source": [
    "**Encoding Categorical Data**"
   ]
  },
  {
   "cell_type": "code",
   "execution_count": 28,
   "id": "6c135fd9-aa41-486e-a20d-f1831648c481",
   "metadata": {},
   "outputs": [],
   "source": [
    "from sklearn.compose import ColumnTransformer\n",
    "from sklearn.preprocessing import OneHotEncoder\n",
    "ct = ColumnTransformer(transformers = [('Encode',OneHotEncoder(),[0])], remainder = 'passthrough')"
   ]
  },
  {
   "cell_type": "code",
   "execution_count": 29,
   "id": "8891e1a8-9e0d-47ff-ac74-d0c8c256206d",
   "metadata": {},
   "outputs": [
    {
     "data": {
      "text/plain": [
       "array([[0.0, 0.0, 1.0, ..., 1551, 42.8, 0],\n",
       "       [0.0, 1.0, 0.0, ..., 1408, 46.3, 3],\n",
       "       [0.0, 1.0, 0.0, ..., 1498, 49.4, 5],\n",
       "       ...,\n",
       "       [0.0, 0.0, 1.0, ..., 1645, 33.4, 22],\n",
       "       [1.0, 0.0, 0.0, ..., 1408, 48.5, 25],\n",
       "       [0.0, 0.0, 1.0, ..., 1500, 40.2, 30]], dtype=object)"
      ]
     },
     "execution_count": 29,
     "metadata": {},
     "output_type": "execute_result"
    }
   ],
   "source": [
    "X = np.array(ct.fit_transform(X))\n",
    "X"
   ]
  },
  {
   "cell_type": "code",
   "execution_count": 30,
   "id": "596aafdc-acf1-4447-8108-c8ed5bc905b7",
   "metadata": {},
   "outputs": [
    {
     "name": "stdout",
     "output_type": "stream",
     "text": [
      "(10000, 8)\n"
     ]
    }
   ],
   "source": [
    "print(X.shape)"
   ]
  },
  {
   "cell_type": "markdown",
   "id": "62e20cc2-ffc6-4ead-a3d6-eea306691a0e",
   "metadata": {},
   "source": [
    "**Spliting Dataset into Training and Test set**"
   ]
  },
  {
   "cell_type": "code",
   "execution_count": 31,
   "id": "4e9f0e89-14f5-41b8-9295-577efa02ff87",
   "metadata": {},
   "outputs": [],
   "source": [
    "X_train, X_test, y_train, y_test = train_test_split(X, y, test_size = 0.2, random_state = 42)"
   ]
  },
  {
   "cell_type": "markdown",
   "id": "b70b0a68-5bf1-40f4-8029-7b7b198107e9",
   "metadata": {},
   "source": [
    "**Feature Scaling**"
   ]
  },
  {
   "cell_type": "code",
   "execution_count": 36,
   "id": "dca28079-7d79-42d4-a7c0-262ff33397d0",
   "metadata": {},
   "outputs": [],
   "source": [
    "from sklearn.preprocessing import StandardScaler\n",
    "sc = StandardScaler()\n",
    "X_train[:,3:] = sc.fit_transform(X_train[:,3:])\n",
    "X_test[:,3:] = sc.transform(X_test[:,3:])"
   ]
  },
  {
   "cell_type": "code",
   "execution_count": 37,
   "id": "eabdbbc8-8444-4c16-95b1-7065ddcbb485",
   "metadata": {},
   "outputs": [
    {
     "name": "stdout",
     "output_type": "stream",
     "text": [
      "[[0.0 1.0 0.0 ... 0.4276341765988049 -0.8926964372001142\n",
      "  1.3750353850894999]\n",
      " [0.0 1.0 0.0 ... -0.8349445732230913 1.3821872742036723\n",
      "  0.45762015943484763]\n",
      " [0.0 1.0 0.0 ... -0.05967691982368137 -0.8926964372001142\n",
      "  1.3592178811989024]\n",
      " ...\n",
      " [1.0 0.0 0.0 ... -0.3088700941306346 0.7207673404915586\n",
      "  1.8179254940262284]\n",
      " [1.0 0.0 0.0 ... 0.012312219420549561 -0.7423737249928155\n",
      "  -1.1874002451872874]\n",
      " [0.0 1.0 0.0 ... 1.4908583869751386 -1.4238366869992363\n",
      "  -1.1557652374060925]]\n"
     ]
    }
   ],
   "source": [
    "print(X_train)"
   ]
  },
  {
   "cell_type": "code",
   "execution_count": 38,
   "id": "53da2f38-29e8-40f8-818b-a9712dc542bc",
   "metadata": {},
   "outputs": [
    {
     "name": "stdout",
     "output_type": "stream",
     "text": [
      "[[0.0 1.0 0.0 ... -0.004300658866580653 -0.3916207298424519\n",
      "  1.4224878967612922]\n",
      " [0.0 0.0 1.0 ... -0.652202912064659 0.4802510009598801\n",
      "  -0.11180998062666064]\n",
      " [0.0 0.0 1.0 ... -0.29779484193921446 0.19964860483958952\n",
      "  0.14127008162289859]\n",
      " ...\n",
      " [0.0 1.0 0.0 ... -1.2281160260185064 1.6527681561768102\n",
      "  -1.598655346342821]\n",
      " [0.0 1.0 0.0 ... 6.546711012358434 -3.077386521279522\n",
      "  -1.4246628035462492]\n",
      " [0.0 0.0 1.0 ... -1.3167180435498675 1.5024454439695116\n",
      "  -1.5670203385616261]]\n"
     ]
    }
   ],
   "source": [
    "print(X_test)"
   ]
  },
  {
   "cell_type": "code",
   "execution_count": null,
   "id": "94142bbe-551b-46d9-ab5d-84880814e614",
   "metadata": {},
   "outputs": [],
   "source": []
  }
 ],
 "metadata": {
  "kernelspec": {
   "display_name": "Python 3 (ipykernel)",
   "language": "python",
   "name": "python3"
  },
  "language_info": {
   "codemirror_mode": {
    "name": "ipython",
    "version": 3
   },
   "file_extension": ".py",
   "mimetype": "text/x-python",
   "name": "python",
   "nbconvert_exporter": "python",
   "pygments_lexer": "ipython3",
   "version": "3.11.13"
  }
 },
 "nbformat": 4,
 "nbformat_minor": 5
}
